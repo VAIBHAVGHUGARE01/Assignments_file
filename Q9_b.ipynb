{
  "nbformat": 4,
  "nbformat_minor": 0,
  "metadata": {
    "colab": {
      "provenance": [],
      "toc_visible": true
    },
    "kernelspec": {
      "name": "python3",
      "display_name": "Python 3"
    },
    "language_info": {
      "name": "python"
    }
  },
  "cells": [
    {
      "cell_type": "code",
      "execution_count": 1,
      "metadata": {
        "id": "5j7M4yX8PNXD"
      },
      "outputs": [],
      "source": [
        "import pandas as pd\n",
        "import numpy as np\n",
        "import seaborn as sns"
      ]
    },
    {
      "cell_type": "code",
      "source": [
        "data=pd.read_csv(\"/content/Q9_b.csv\")\n",
        "data"
      ],
      "metadata": {
        "id": "zjQpFvJXPyCc"
      },
      "execution_count": null,
      "outputs": []
    },
    {
      "cell_type": "code",
      "source": [
        "data_b=data.iloc[:,1:]\n",
        "data_b"
      ],
      "metadata": {
        "id": "Sudn36fPQP7d"
      },
      "execution_count": null,
      "outputs": []
    },
    {
      "cell_type": "code",
      "source": [
        "#skewness\n",
        "data_b.skew()"
      ],
      "metadata": {
        "id": "4CvrdINWQjjF"
      },
      "execution_count": null,
      "outputs": []
    },
    {
      "cell_type": "code",
      "source": [
        "#kurtoris\n",
        "data_b.kurt()"
      ],
      "metadata": {
        "id": "g4DL2YRyQvY4"
      },
      "execution_count": null,
      "outputs": []
    }
  ]
}